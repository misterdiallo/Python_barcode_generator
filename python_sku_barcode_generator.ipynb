{
 "cells": [
  {
   "cell_type": "markdown",
   "id": "9f8c4be4-7ab0-4abf-acff-a38050bc59dc",
   "metadata": {},
   "source": [
    "### Python SKU Barcode generator"
   ]
  },
  {
   "cell_type": "code",
   "execution_count": 1,
   "id": "fc41f6e2-e1a6-48a0-99ba-b0da8396c08a",
   "metadata": {},
   "outputs": [],
   "source": [
    "# Import libaries\n",
    "from PIL import Image\n",
    "import pandas as pd\n",
    "import requests\n",
    "import io\n",
    "from PIL import Image, ImageOps, ImageDraw\n",
    "from PIL import ImageFont\n",
    "from barcode import EAN13\n",
    "import barcode\n",
    "from barcode.writer import ImageWriter\n"
   ]
  },
  {
   "cell_type": "code",
   "execution_count": 2,
   "id": "28e47da8-68da-495b-b6ef-e975bd42cb67",
   "metadata": {},
   "outputs": [],
   "source": [
    "# Url of the dataframe\n",
    "url = \"https://gist.githubusercontent.com/samirsaci/89d814ea35b0f6f6309701389cbb6ce2/raw/eec1d163e9c609646d0c114ac795b3cb04523133/label_information.csv\""
   ]
  },
  {
   "cell_type": "code",
   "execution_count": 3,
   "id": "99bbe026-9735-44b8-bb0c-56a5d776eacb",
   "metadata": {},
   "outputs": [
    {
     "data": {
      "text/html": [
       "<div>\n",
       "<style scoped>\n",
       "    .dataframe tbody tr th:only-of-type {\n",
       "        vertical-align: middle;\n",
       "    }\n",
       "\n",
       "    .dataframe tbody tr th {\n",
       "        vertical-align: top;\n",
       "    }\n",
       "\n",
       "    .dataframe thead th {\n",
       "        text-align: right;\n",
       "    }\n",
       "</style>\n",
       "<table border=\"1\" class=\"dataframe\">\n",
       "  <thead>\n",
       "    <tr style=\"text-align: right;\">\n",
       "      <th></th>\n",
       "      <th>SKU</th>\n",
       "      <th>SKU Code</th>\n",
       "      <th>Arrow</th>\n",
       "      <th>Zone</th>\n",
       "      <th>Cell</th>\n",
       "      <th>Loc</th>\n",
       "      <th>Location</th>\n",
       "      <th>log</th>\n",
       "      <th>arrow</th>\n",
       "      <th>cat</th>\n",
       "      <th>special</th>\n",
       "    </tr>\n",
       "  </thead>\n",
       "  <tbody>\n",
       "    <tr>\n",
       "      <th>0</th>\n",
       "      <td>1</td>\n",
       "      <td>6549541941942</td>\n",
       "      <td>8</td>\n",
       "      <td>67</td>\n",
       "      <td>49</td>\n",
       "      <td>1</td>\n",
       "      <td>067-49-1</td>\n",
       "      <td>Pieces</td>\n",
       "      <td>Arrow Red</td>\n",
       "      <td>Dress</td>\n",
       "      <td>GOH</td>\n",
       "    </tr>\n",
       "    <tr>\n",
       "      <th>1</th>\n",
       "      <td>2</td>\n",
       "      <td>6388908160619</td>\n",
       "      <td>1</td>\n",
       "      <td>64</td>\n",
       "      <td>13</td>\n",
       "      <td>2</td>\n",
       "      <td>064-13-2</td>\n",
       "      <td>Carton</td>\n",
       "      <td>Arrow Red Rev</td>\n",
       "      <td>Tie</td>\n",
       "      <td>RFID</td>\n",
       "    </tr>\n",
       "    <tr>\n",
       "      <th>2</th>\n",
       "      <td>3</td>\n",
       "      <td>6035901125615</td>\n",
       "      <td>5</td>\n",
       "      <td>62</td>\n",
       "      <td>12</td>\n",
       "      <td>9</td>\n",
       "      <td>062-12-9</td>\n",
       "      <td>Carton</td>\n",
       "      <td>Arrow Red Rev</td>\n",
       "      <td>Shoes Lady</td>\n",
       "      <td>Label</td>\n",
       "    </tr>\n",
       "    <tr>\n",
       "      <th>3</th>\n",
       "      <td>4</td>\n",
       "      <td>6380994358294</td>\n",
       "      <td>3</td>\n",
       "      <td>58</td>\n",
       "      <td>79</td>\n",
       "      <td>5</td>\n",
       "      <td>058-79-5</td>\n",
       "      <td>Carton</td>\n",
       "      <td>Arrow Green Rev</td>\n",
       "      <td>Jewelry</td>\n",
       "      <td>Danger</td>\n",
       "    </tr>\n",
       "    <tr>\n",
       "      <th>4</th>\n",
       "      <td>5</td>\n",
       "      <td>7056603542859</td>\n",
       "      <td>2</td>\n",
       "      <td>55</td>\n",
       "      <td>76</td>\n",
       "      <td>8</td>\n",
       "      <td>055-76-8</td>\n",
       "      <td>Pieces</td>\n",
       "      <td>Arrow Green</td>\n",
       "      <td>Jewelry</td>\n",
       "      <td>Sprinkler</td>\n",
       "    </tr>\n",
       "  </tbody>\n",
       "</table>\n",
       "</div>"
      ],
      "text/plain": [
       "   SKU       SKU Code  Arrow  Zone  Cell  Loc  Location     log  \\\n",
       "0    1  6549541941942      8    67    49    1  067-49-1  Pieces   \n",
       "1    2  6388908160619      1    64    13    2  064-13-2  Carton   \n",
       "2    3  6035901125615      5    62    12    9  062-12-9  Carton   \n",
       "3    4  6380994358294      3    58    79    5  058-79-5  Carton   \n",
       "4    5  7056603542859      2    55    76    8  055-76-8  Pieces   \n",
       "\n",
       "             arrow         cat    special  \n",
       "0        Arrow Red       Dress        GOH  \n",
       "1    Arrow Red Rev         Tie       RFID  \n",
       "2    Arrow Red Rev  Shoes Lady      Label  \n",
       "3  Arrow Green Rev     Jewelry     Danger  \n",
       "4      Arrow Green     Jewelry  Sprinkler  "
      ]
     },
     "execution_count": 3,
     "metadata": {},
     "output_type": "execute_result"
    }
   ],
   "source": [
    "# Read csv from url\n",
    "s=requests.get(url).content\n",
    "c=pd.read_csv(io.StringIO(s.decode('utf-8')))\n",
    "c"
   ]
  },
  {
   "cell_type": "code",
   "execution_count": 7,
   "id": "c0c1bc94-54a2-415a-b3b0-4525232f8a98",
   "metadata": {},
   "outputs": [],
   "source": [
    "# Start the loop\n",
    "for index, row in c.iterrows():\n",
    "\n",
    "    # Create White Canvas with border\n",
    "    bg = Image.new('RGBA', (500, 200), color = (255, 255, 255))\n",
    "    bg = ImageOps.expand(bg,border=1,fill='black')\n",
    "    \n",
    "    # Create a function to generate and save a barcode image\n",
    "    def create_ean(number):\n",
    "        my_code = EAN13(number, writer=ImageWriter())\n",
    "        my_code.save(\"Img/\" + row['Location'])\n",
    "\n",
    "    # Import the bar code\n",
    "    create_ean(str(row['SKU Code']))\n",
    "    bcode = Image.open('Img/'+ row['Location'] +'.png').convert(\"RGBA\")\n",
    "    bcode = bcode.resize((int(bcode.size[0]*0.5),int(bcode.size[1]*0.5)))\n",
    "    # Add barcode\n",
    "    bg.paste(bcode, (100, 5), bcode)\n",
    "    \n",
    "    # Add location number\n",
    "    img_draw = ImageDraw.Draw(bg)\n",
    "    font = ImageFont.truetype('Arial', 60)\n",
    "    img_draw.text((140, 135),'{}'.format(row['Location']),(0,0,0),font=font, stroke_width=1,stroke_fill=\"black\")\n",
    "    create_ean(str(row['SKU Code']))\n",
    "    \n",
    "    # Save the barcode with Location code\n",
    "    bg.save(\"Img/\" + str(row['Location']) + \".png\")\n",
    "    \n",
    "    "
   ]
  },
  {
   "cell_type": "code",
   "execution_count": 25,
   "id": "5dcfa986-b175-4fb3-b27d-5aef05c9198d",
   "metadata": {},
   "outputs": [],
   "source": [
    "# Adding Icons in the pictures...\n",
    "\n",
    "# arr = Image.open('Img/arrow/{}.png'.format(row['arrow'])).convert(\"RGBA\")\n",
    "# arr = arr.resize((int(arr.size[0]*1.35),int(arr.size[1]*1.35)))\n",
    "# # Paste with Coordinates\n",
    "# bg.paste(arr, (-40, 0), arr)\n",
    "    \n",
    "# # Icon 1\n",
    "# zone = Image.open('Img/log/{}.png'.format(row['log'])).convert(\"RGBA\")\n",
    "# perc_size = 0.45\n",
    "# l1, l2 = int(zone.size[0]*perc_size), int(zone.size[1]*perc_size)\n",
    "# zone = zone.resize((l1,l2))\n",
    "# # Paste with coordinates\n",
    "# x1, y1 = 415, 0\n",
    "# bg.paste(zone, (x1, y1), zone)\n",
    "\n",
    "# # Icon 2\n",
    "# zone = Image.open('Img/cat/{}.png'.format(row['cat'])).convert(\"RGBA\")\n",
    "# zone = zone.resize((l1,l2))\n",
    "# # Paste with coordinates\n",
    "# x1, y1 = 415, y1 + l2\n",
    "# bg.paste(zone, (x1, y1), zone)\n",
    "\n",
    "# # Icon 3\n",
    "# zone = Image.open('Img/special/{}.png'.format(row['special'])).convert(\"RGBA\")\n",
    "# zone = zone.resize((l1,l2))\n",
    "# # Paste with coordinates\n",
    "# x1, y1 = 415, y1 + l2\n",
    "# bg.paste(zone, (x1, y1), zone)"
   ]
  },
  {
   "cell_type": "code",
   "execution_count": 16,
   "id": "fbfaa315-157d-4cc6-af10-a8d332e9b8db",
   "metadata": {},
   "outputs": [],
   "source": [
    "listImages = []\n",
    "for index, row in c.iterrows():\n",
    "    image = Image.open('Img/'+ row['Location'] +'.png').convert(\"RGBA\")\n",
    "    listImages.append(image)\n",
    "    # image.show()\n"
   ]
  },
  {
   "cell_type": "code",
   "execution_count": 14,
   "id": "873ba2ec-a399-4664-aa5b-8acb61da3a25",
   "metadata": {},
   "outputs": [
    {
     "data": {
      "text/plain": [
       "[<PIL.Image.Image image mode=RGBA size=502x202>,\n",
       " <PIL.Image.Image image mode=RGBA size=502x202>,\n",
       " <PIL.Image.Image image mode=RGBA size=502x202>,\n",
       " <PIL.Image.Image image mode=RGBA size=502x202>,\n",
       " <PIL.Image.Image image mode=RGBA size=502x202>]"
      ]
     },
     "execution_count": 14,
     "metadata": {},
     "output_type": "execute_result"
    }
   ],
   "source": [
    "listImages"
   ]
  },
  {
   "cell_type": "code",
   "execution_count": null,
   "id": "e0edb014-4be6-47f2-8499-0275cadcebbd",
   "metadata": {},
   "outputs": [],
   "source": []
  }
 ],
 "metadata": {
  "kernelspec": {
   "display_name": "Python 3 (ipykernel)",
   "language": "python",
   "name": "python3"
  },
  "language_info": {
   "codemirror_mode": {
    "name": "ipython",
    "version": 3
   },
   "file_extension": ".py",
   "mimetype": "text/x-python",
   "name": "python",
   "nbconvert_exporter": "python",
   "pygments_lexer": "ipython3",
   "version": "3.9.12"
  }
 },
 "nbformat": 4,
 "nbformat_minor": 5
}
